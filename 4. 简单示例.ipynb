{
 "cells": [
  {
   "cell_type": "code",
   "execution_count": 3,
   "metadata": {},
   "outputs": [],
   "source": [
    "import tensorflow as tf\n",
    "import numpy as np"
   ]
  },
  {
   "cell_type": "code",
   "execution_count": 7,
   "metadata": {},
   "outputs": [
    {
     "name": "stdout",
     "output_type": "stream",
     "text": [
      "0 [0.11683461, 0.24426857]\n",
      "20 [0.09921507, 0.20037438]\n",
      "40 [0.099823266, 0.20008428]\n",
      "60 [0.09996021, 0.20001897]\n",
      "80 [0.09999104, 0.20000428]\n",
      "100 [0.099997975, 0.20000097]\n",
      "120 [0.09999955, 0.20000021]\n",
      "140 [0.0999999, 0.20000005]\n",
      "160 [0.09999994, 0.20000003]\n",
      "180 [0.09999994, 0.20000003]\n",
      "200 [0.09999994, 0.20000003]\n"
     ]
    }
   ],
   "source": [
    "#使用numpy生成100个随机点\n",
    "x_data=np.random.rand(100)\n",
    "y_data=0.1*x_data+0.2 #相当于一个线性函数 y=ax+b\n",
    "\n",
    "#构造一个线性模型\n",
    "b=tf.Variable(0.)\n",
    "W=tf.Variable(0.)\n",
    "y=W*x_data+b\n",
    "\n",
    "#二次代价函数\n",
    "loss = tf.reduce_mean(tf.square(y_data-y))\n",
    "#定义一个梯度下降法来进行训练的优化器\n",
    "optimizer = tf.train.GradientDescentOptimizer(0.5)\n",
    "#最小化代价函数\n",
    "train = optimizer.minimize(loss)\n",
    "\n",
    "#初始化变量\n",
    "init = tf.global_variables_initializer()\n",
    "\n",
    "with tf.Session() as sess:\n",
    "    sess.run(init)\n",
    "    for step in range(201):\n",
    "        sess.run(train)\n",
    "        if step%20==0:\n",
    "            print(step,sess.run([W,b]))"
   ]
  }
 ],
 "metadata": {
  "kernelspec": {
   "display_name": "Python 3",
   "language": "python",
   "name": "python3"
  },
  "language_info": {
   "codemirror_mode": {
    "name": "ipython",
    "version": 3
   },
   "file_extension": ".py",
   "mimetype": "text/x-python",
   "name": "python",
   "nbconvert_exporter": "python",
   "pygments_lexer": "ipython3",
   "version": "3.6.8"
  }
 },
 "nbformat": 4,
 "nbformat_minor": 2
}
