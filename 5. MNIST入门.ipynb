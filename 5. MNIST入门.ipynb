{
 "cells": [
  {
   "cell_type": "code",
   "execution_count": 1,
   "metadata": {
    "scrolled": true
   },
   "outputs": [
    {
     "name": "stdout",
     "output_type": "stream",
     "text": [
      "WARNING:tensorflow:From <ipython-input-1-364e13752aa0>:3: read_data_sets (from tensorflow.contrib.learn.python.learn.datasets.mnist) is deprecated and will be removed in a future version.\n",
      "Instructions for updating:\n",
      "Please use alternatives such as official/mnist/dataset.py from tensorflow/models.\n",
      "WARNING:tensorflow:From /home/lvkou/anaconda3/lib/python3.6/site-packages/tensorflow/contrib/learn/python/learn/datasets/mnist.py:260: maybe_download (from tensorflow.contrib.learn.python.learn.datasets.base) is deprecated and will be removed in a future version.\n",
      "Instructions for updating:\n",
      "Please write your own downloading logic.\n",
      "WARNING:tensorflow:From /home/lvkou/anaconda3/lib/python3.6/site-packages/tensorflow/contrib/learn/python/learn/datasets/base.py:252: _internal_retry.<locals>.wrap.<locals>.wrapped_fn (from tensorflow.contrib.learn.python.learn.datasets.base) is deprecated and will be removed in a future version.\n",
      "Instructions for updating:\n",
      "Please use urllib or similar directly.\n",
      "Successfully downloaded train-images-idx3-ubyte.gz 9912422 bytes.\n",
      "WARNING:tensorflow:From /home/lvkou/anaconda3/lib/python3.6/site-packages/tensorflow/contrib/learn/python/learn/datasets/mnist.py:262: extract_images (from tensorflow.contrib.learn.python.learn.datasets.mnist) is deprecated and will be removed in a future version.\n",
      "Instructions for updating:\n",
      "Please use tf.data to implement this functionality.\n",
      "Extracting MNIST_data/train-images-idx3-ubyte.gz\n",
      "Successfully downloaded train-labels-idx1-ubyte.gz 28881 bytes.\n",
      "WARNING:tensorflow:From /home/lvkou/anaconda3/lib/python3.6/site-packages/tensorflow/contrib/learn/python/learn/datasets/mnist.py:267: extract_labels (from tensorflow.contrib.learn.python.learn.datasets.mnist) is deprecated and will be removed in a future version.\n",
      "Instructions for updating:\n",
      "Please use tf.data to implement this functionality.\n",
      "Extracting MNIST_data/train-labels-idx1-ubyte.gz\n",
      "WARNING:tensorflow:From /home/lvkou/anaconda3/lib/python3.6/site-packages/tensorflow/contrib/learn/python/learn/datasets/mnist.py:110: dense_to_one_hot (from tensorflow.contrib.learn.python.learn.datasets.mnist) is deprecated and will be removed in a future version.\n",
      "Instructions for updating:\n",
      "Please use tf.one_hot on tensors.\n",
      "Successfully downloaded t10k-images-idx3-ubyte.gz 1648877 bytes.\n",
      "Extracting MNIST_data/t10k-images-idx3-ubyte.gz\n",
      "Successfully downloaded t10k-labels-idx1-ubyte.gz 4542 bytes.\n",
      "Extracting MNIST_data/t10k-labels-idx1-ubyte.gz\n",
      "WARNING:tensorflow:From /home/lvkou/anaconda3/lib/python3.6/site-packages/tensorflow/contrib/learn/python/learn/datasets/mnist.py:290: DataSet.__init__ (from tensorflow.contrib.learn.python.learn.datasets.mnist) is deprecated and will be removed in a future version.\n",
      "Instructions for updating:\n",
      "Please use alternatives such as official/mnist/dataset.py from tensorflow/models.\n"
     ]
    }
   ],
   "source": [
    "#导入数据集\n",
    "import MNIST_input_data\n",
    "mnist = MNIST_input_data.read_data_sets(\"MNIST_data/\", one_hot=True)"
   ]
  },
  {
   "cell_type": "code",
   "execution_count": 1,
   "metadata": {},
   "outputs": [],
   "source": [
    "import tensorflow as tf"
   ]
  },
  {
   "cell_type": "code",
   "execution_count": 3,
   "metadata": {},
   "outputs": [],
   "source": [
    "#模型\n",
    "x = tf.placeholder(tf.float32, [None, 784]) #代表输入的图片\n",
    "W = tf.Variable(tf.zeros([784,10]))      #权重\n",
    "b = tf.Variable(tf.zeros([10]))   #偏移\n",
    "y = tf.nn.softmax(tf.matmul(x,W) + b)"
   ]
  },
  {
   "cell_type": "code",
   "execution_count": 5,
   "metadata": {},
   "outputs": [],
   "source": [
    "#训练模型\n",
    "y_ = tf.placeholder(tf.float32, [None,10]) #input right value\n",
    "cross_entropy = -tf.reduce_sum(y_*tf.log(y)) #calculate the 交叉熵\n",
    "#用梯度下降算法（梯度下降算法）以0.01的学习速率最小化交叉熵。\n",
    "train_step = tf.train.GradientDescentOptimizer(0.01).minimize(cross_entropy)\n",
    "init = tf.global_variables_initializer() #init the variables"
   ]
  },
  {
   "cell_type": "code",
   "execution_count": 14,
   "metadata": {},
   "outputs": [
    {
     "name": "stdout",
     "output_type": "stream",
     "text": [
      "0.1998 0.5391 0.457 0.4532 0.5998 0.4908 0.6918 0.6867 0.6563 0.6001 0.5654 0.6436 0.7735 0.8076 0.8389 0.8483 0.8353 0.7745 0.7939 0.8305 0.6632 0.7786 0.8594 0.8445 0.8265 0.7794 0.84 0.8568 0.8313 0.8349 0.8072 0.8213 0.8149 0.8548 0.8195 0.869 0.8577 0.8725 0.8663 0.8489 0.8687 0.8561 0.8563 0.8614 0.8809 0.8631 0.8841 0.8708 0.8773 0.869 0.8052 0.8516 0.8549 0.8843 0.8798 0.8671 0.8813 0.8683 0.8827 0.8715 0.8823 0.8901 0.8695 0.885 0.8899 0.8799 0.8887 0.8916 0.8929 0.8891 0.856 0.8725 0.8769 0.8931 0.8742 0.8562 0.8536 0.887 0.892 0.8804 0.8915 0.895 0.8853 0.8929 0.8831 0.8831 0.875 0.8739 0.8884 0.8971 0.8966 0.8801 0.8894 0.8781 0.8812 0.8999 0.8999 0.8463 0.8226 0.8995 0.8886 0.9017 0.8928 0.8957 0.8407 0.8636 0.8959 0.8982 0.9024 0.8937 0.8972 0.9019 0.8886 0.8933 0.8985 0.8847 0.8915 0.8673 0.8961 0.901 0.8828 0.9037 0.8812 0.8579 0.8757 0.8813 0.8977 0.9006 0.9042 0.9031 0.8719 0.8859 0.8942 0.8959 0.904 0.9026 0.907 0.8797 0.8323 0.899 0.9025 0.8889 0.8877 0.8679 0.8973 0.8745 0.9007 0.8987 0.9042 0.8922 0.9062 0.9014 0.894 0.9033 0.8966 0.8778 0.9004 0.8978 0.9037 0.9012 0.8985 0.9016 0.9064 0.9005 0.8985 0.9004 0.9034 0.9026 0.8965 0.8969 0.8994 0.9089 0.9062 0.9092 0.8822 0.89 0.8817 0.8885 0.8852 0.8727 0.9069 0.9093 0.901 0.9023 0.9018 0.9088 0.9053 0.9048 0.9083 0.907 0.9053 0.896 0.9023 0.887 0.9042 0.9051 0.9045 0.8995 0.8876 0.9011 0.9041 0.9038 0.9038 0.8952 0.8991 0.8981 0.9017 0.9077 0.9092 0.9069 0.9085 0.899 0.9063 0.9054 0.8941 0.9088 0.8862 0.9032 0.9125 0.9052 0.8887 0.8967 0.8705 0.9043 0.8964 0.9046 0.9034 0.8995 0.9122 0.904 0.9084 0.901 0.906 0.91 0.9122 0.9024 0.9095 0.8985 0.9033 0.8935 0.8954 0.9101 0.9128 0.8765 0.9041 0.9099 0.9108 0.9088 0.9062 0.8984 0.9015 0.9075 0.9059 0.9056 0.895 0.9011 0.8994 0.876 0.9113 0.9051 0.9085 0.9086 0.9008 0.9051 0.9065 0.8978 0.9094 0.9027 0.9044 0.9037 0.9064 0.9093 0.9117 0.9083 0.8996 0.9079 0.9058 0.9042 0.906 0.8788 0.8921 0.9035 0.8979 0.9021 0.9067 0.9078 0.9034 0.9019 0.8993 0.9112 0.9108 0.8904 0.9058 0.9041 0.9042 0.8875 0.8859 0.9075 0.9088 0.9016 "
     ]
    }
   ],
   "source": [
    "#开始训练\n",
    "with tf.Session() as sess:\n",
    "    sess.run(init)\n",
    "    for _ in range(200):\n",
    "        batch_xs, batch_ys = mnist.train.next_batch(100)\n",
    "        sess.run(train_step, feed_dict={x: batch_xs, y_: batch_ys})\n",
    "        #评估模型\n",
    "        correct_prediction = tf.equal(tf.argmax(y,1), tf.argmax(y_,1))\n",
    "        accuracy = tf.reduce_mean(tf.cast(correct_prediction, \"float\"))\n",
    "        print(sess.run(accuracy, feed_dict={x: mnist.test.images, y_: mnist.test.labels}),end=' ')"
   ]
  },
  {
   "cell_type": "code",
   "execution_count": null,
   "metadata": {},
   "outputs": [],
   "source": []
  }
 ],
 "metadata": {
  "kernelspec": {
   "display_name": "Python 3",
   "language": "python",
   "name": "python3"
  },
  "language_info": {
   "codemirror_mode": {
    "name": "ipython",
    "version": 3
   },
   "file_extension": ".py",
   "mimetype": "text/x-python",
   "name": "python",
   "nbconvert_exporter": "python",
   "pygments_lexer": "ipython3",
   "version": "3.6.8"
  }
 },
 "nbformat": 4,
 "nbformat_minor": 2
}
