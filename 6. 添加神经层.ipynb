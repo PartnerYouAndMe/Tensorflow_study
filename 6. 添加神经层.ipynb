{
 "cells": [
  {
   "cell_type": "code",
   "execution_count": 1,
   "metadata": {},
   "outputs": [],
   "source": [
    "import tensorflow as tf\n",
    "import numpy as np\n",
    "import matplotlib as plt"
   ]
  },
  {
   "cell_type": "code",
   "execution_count": 2,
   "metadata": {},
   "outputs": [],
   "source": [
    "#inputs: input data\n",
    "#in_size: input data size    \n",
    "#activation_function: 激励函数，默认为None\n",
    "def add_layer(inputs,in_size,out_size,activation_function=None):\n",
    "    Weights = tf.Variable(tf.random_normal([in_size,out_size]))\n",
    "    biases = tf.Variable(tf.zeros([1,out_size])+0.1)\n",
    "    Wx_plus_b = tf.matmul(inputs,Weights)+biases\n",
    "    if activation_function==None:\n",
    "        outputs=Wx_plus_b#没有激励函数，还是为线性的\n",
    "    else:\n",
    "        outputs=activation_function(Wx_plus_b)\n",
    "    return outputs\n",
    "        "
   ]
  },
  {
   "cell_type": "code",
   "execution_count": 3,
   "metadata": {},
   "outputs": [
    {
     "name": "stdout",
     "output_type": "stream",
     "text": [
      "0.05170121\n",
      "0.007829235\n",
      "0.005264987\n",
      "0.004348546\n",
      "0.003924202\n",
      "0.0036714252\n",
      "0.003500334\n",
      "0.00338768\n",
      "0.0033194632\n",
      "0.0032611392\n",
      "0.0032232201\n",
      "0.0031914872\n",
      "0.003159756\n",
      "0.0031352483\n",
      "0.003109186\n",
      "0.003085628\n",
      "0.0030585432\n",
      "0.0030319334\n",
      "0.0030088504\n",
      "0.0029884845\n"
     ]
    }
   ],
   "source": [
    "x_data = np.linspace(-1,1,300)[:,np.newaxis]\n",
    "noise = np.random.normal(0,0.05,x_data.shape)\n",
    "y_data = np.square(x_data)-0.5+noise\n",
    "#相当于输入层有一个神经元(x_data)，输出层有一个神经元(y_data)\n",
    "\n",
    "xs = tf.placeholder(tf.float32,[None,1])\n",
    "ys = tf.placeholder(tf.float32,[None,1])\n",
    "\n",
    "#添加隐藏层，相当于这个层有10个神经元\n",
    "l1 = add_layer(xs,1,10,activation_function=tf.nn.relu)\n",
    "#输出层\n",
    "prediction=add_layer(l1,10,1,activation_function=None)\n",
    "\n",
    "loss = tf.reduce_mean(tf.reduce_sum(tf.square(ys-prediction),reduction_indices=[1]))\n",
    "\n",
    "train_step = tf.train.GradientDescentOptimizer(0.1).minimize(loss)\n",
    "\n",
    "with tf.Session() as sess:\n",
    "    init=tf.global_variables_initializer()\n",
    "    sess.run(init)\n",
    "    for i in range(1000):\n",
    "        sess.run(train_step,feed_dict={xs:x_data,ys:y_data})\n",
    "        if i%50==0:\n",
    "            print(sess.run(loss,feed_dict={xs:x_data,ys:y_data}))"
   ]
  }
 ],
 "metadata": {
  "kernelspec": {
   "display_name": "Python 3",
   "language": "python",
   "name": "python3"
  },
  "language_info": {
   "codemirror_mode": {
    "name": "ipython",
    "version": 3
   },
   "file_extension": ".py",
   "mimetype": "text/x-python",
   "name": "python",
   "nbconvert_exporter": "python",
   "pygments_lexer": "ipython3",
   "version": "3.6.8"
  }
 },
 "nbformat": 4,
 "nbformat_minor": 2
}
